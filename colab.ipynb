{
  "cells": [
    {
      "cell_type": "code",
      "execution_count": null,
      "metadata": {
        "colab": {
          "base_uri": "https://localhost:8080/"
        },
        "id": "TmYepAqjSx3z",
        "outputId": "69e65a22-a197-4280-fd70-7bd921040e8e"
      },
      "outputs": [],
      "source": [
        "!pip install \"datasets>=3.4.1\" huggingface_hub hf_transfer transformers"
      ]
    },
    {
      "cell_type": "code",
      "execution_count": null,
      "metadata": {
        "colab": {
          "base_uri": "https://localhost:8080/"
        },
        "id": "dPc27OzTO4AV",
        "outputId": "8dd26f32-97d9-4552-8423-f984d9c0cb11"
      },
      "outputs": [],
      "source": [
        "%cd /content\n",
        "!git clone https://github.com/DT-1997/xjco2121-data-mining-report.git\n",
        "%cd xjco2121-data-mining-report"
      ]
    },
    {
      "cell_type": "code",
      "execution_count": null,
      "metadata": {
        "colab": {
          "base_uri": "https://localhost:8080/"
        },
        "id": "IvhVLbyIO_QG",
        "outputId": "267f7d53-d83e-4fba-f67a-e6732cfb0698"
      },
      "outputs": [],
      "source": [
        "!python train.py goemotions\n",
        "# !python train.py goemotions_augmented"
      ]
    }
  ],
  "metadata": {
    "accelerator": "GPU",
    "colab": {
      "gpuType": "T4",
      "machine_shape": "hm",
      "provenance": []
    },
    "kernelspec": {
      "display_name": "Python 3",
      "name": "python3"
    },
    "language_info": {
      "name": "python"
    }
  },
  "nbformat": 4,
  "nbformat_minor": 0
}
